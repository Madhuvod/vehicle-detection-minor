{
  "nbformat": 4,
  "nbformat_minor": 0,
  "metadata": {
    "colab": {
      "provenance": [],
      "gpuType": "T4",
      "mount_file_id": "1ux2VxFBbvf2vXM5WZY4lcMaH-Tc0frdG",
      "authorship_tag": "ABX9TyNhVgnYd4CSgAI0G65OarvD",
      "include_colab_link": true
    },
    "kernelspec": {
      "name": "python3",
      "display_name": "Python 3"
    },
    "language_info": {
      "name": "python"
    },
    "accelerator": "GPU"
  },
  "cells": [
    {
      "cell_type": "markdown",
      "metadata": {
        "id": "view-in-github",
        "colab_type": "text"
      },
      "source": [
        "<a href=\"https://colab.research.google.com/github/Madhuvod/vehicle-detection-minor/blob/main/object_detection.ipynb\" target=\"_parent\"><img src=\"https://colab.research.google.com/assets/colab-badge.svg\" alt=\"Open In Colab\"/></a>"
      ]
    },
    {
      "cell_type": "code",
      "source": [
        "import os\n",
        "import shutil\n",
        "\n",
        "# Define the source and destination directories\n",
        "source_dir = '/content/indian_images'\n",
        "destination_dir = '/path/to/consolidated_dataset/'\n",
        "\n",
        "# Create the destination directory if it doesn't exist\n",
        "if not os.path.exists(destination_dir):\n",
        "    os.makedirs(destination_dir)\n",
        "\n",
        "# Traverse all the subfolders and copy images to the destination folder\n",
        "for root, dirs, files in os.walk(source_dir):\n",
        "    for file in files:\n",
        "        if file.endswith('.jpg'):\n",
        "            source_file = os.path.join(root, file)\n",
        "            destination_file = os.path.join(destination_dir, file)\n",
        "            shutil.copy(source_file, destination_file)\n",
        "\n",
        "print(f'All images have been copied to {destination_dir}')\n"
      ],
      "metadata": {
        "id": "tSYBgH4HKvy1"
      },
      "execution_count": null,
      "outputs": []
    },
    {
      "cell_type": "code",
      "source": [
        "# Install ultralytics package\n",
        "!pip install -q ultralytics\n",
        "!pip install  -q shapely\n",
        "\n",
        "# Check if GPU is available\n",
        "import torch\n",
        "device = 'cuda' if torch.cuda.is_available() else 'cpu'\n",
        "print(f'Using {device} device')\n"
      ],
      "metadata": {
        "colab": {
          "base_uri": "https://localhost:8080/"
        },
        "id": "zunrfaoxIGAE",
        "outputId": "523b4a13-6fa6-4cc2-a248-1f4f36feef9f"
      },
      "execution_count": null,
      "outputs": [
        {
          "output_type": "stream",
          "name": "stdout",
          "text": [
            "\u001b[2K   \u001b[90m━━━━━━━━━━━━━━━━━━━━━━━━━━━━━━━━━━━━━━━━\u001b[0m \u001b[32m877.6/877.6 kB\u001b[0m \u001b[31m6.5 MB/s\u001b[0m eta \u001b[36m0:00:00\u001b[0m\n",
            "\u001b[?25h"
          ]
        }
      ]
    },
    {
      "cell_type": "code",
      "source": [
        "import os\n",
        "import json\n",
        "from shapely.geometry import Polygon\n",
        "from ultralytics import YOLO\n",
        "import shutil\n",
        "\n"
      ],
      "metadata": {
        "id": "l8rZ5ECsINx0"
      },
      "execution_count": null,
      "outputs": []
    },
    {
      "cell_type": "code",
      "source": [
        "# Define dataset paths\n",
        "dataset_path = '/content/dataset'\n",
        "images_path = os.path.join(dataset_path, 'images')\n",
        "labels_path = os.path.join(dataset_path, 'labels')\n",
        "\n",
        "# Create directories\n",
        "os.makedirs(os.path.join(images_path, 'train'), exist_ok=True)\n",
        "os.makedirs(os.path.join(images_path, 'val'), exist_ok=True)\n",
        "os.makedirs(os.path.join(labels_path, 'train'), exist_ok=True)\n",
        "os.makedirs(os.path.join(labels_path, 'val'), exist_ok=True)\n"
      ],
      "metadata": {
        "id": "UkM9nsGSIihO"
      },
      "execution_count": null,
      "outputs": []
    },
    {
      "cell_type": "code",
      "source": [
        "from google.colab import files\n",
        "\n",
        "# Upload training images\n",
        "print(\"Upload your 4 training images\")\n",
        "uploaded_train_images = files.upload()\n",
        "for filename in uploaded_train_images.keys():\n",
        "    shutil.move(filename, os.path.join(images_path, 'train', filename))\n",
        "\n",
        "# Upload validation images\n",
        "print(\"Upload your 2 validation images\")\n",
        "uploaded_val_images = files.upload()\n",
        "for filename in uploaded_val_images.keys():\n",
        "    shutil.move(filename, os.path.join(images_path, 'val', filename))\n",
        "\n",
        "# Upload training labels\n",
        "print(\"Upload your 4 training label files\")\n",
        "uploaded_train_labels = files.upload()\n",
        "for filename in uploaded_train_labels.keys():\n",
        "    shutil.move(filename, os.path.join(labels_path, 'train', filename))\n",
        "\n",
        "# Upload validation labels\n",
        "print(\"Upload your 2 validation label files\")\n",
        "uploaded_val_labels = files.upload()\n",
        "for filename in uploaded_val_labels.keys():\n",
        "    shutil.move(filename, os.path.join(labels_path, 'val', filename))\n"
      ],
      "metadata": {
        "id": "J1k0lr9bI0Em"
      },
      "execution_count": null,
      "outputs": []
    },
    {
      "cell_type": "code",
      "source": [
        "# List training images\n",
        "print(\"Training images:\", os.listdir(os.path.join(images_path, 'train')))\n",
        "# List validation images\n",
        "print(\"Validation images:\", os.listdir(os.path.join(images_path, 'val')))\n",
        "# List training labels\n",
        "print(\"Training labels:\", os.listdir(os.path.join(labels_path, 'train')))\n",
        "# List validation labels\n",
        "print(\"Validation labels:\", os.listdir(os.path.join(labels_path, 'val')))\n"
      ],
      "metadata": {
        "id": "JnvDnTZgMAuY"
      },
      "execution_count": null,
      "outputs": []
    },
    {
      "cell_type": "code",
      "source": [
        "class_name_to_id = {\n",
        "    'road': 0,\n",
        "    'car': 1,\n",
        "    'person': 2,\n",
        "    'truck': 3,\n",
        "    'bus': 4,\n",
        "    'motorcycle': 5,\n",
        "}"
      ],
      "metadata": {
        "id": "byVY_KR9TZV5"
      },
      "execution_count": null,
      "outputs": []
    },
    {
      "cell_type": "code",
      "source": [
        "# Define class names\n",
        "class_names = ['road', 'car','person', 'truck', 'bus', 'motorcycle']\n",
        "\n",
        "# Create the YAML content\n",
        "data_yaml = f\"\"\"\n",
        "train: {images_path}/train\n",
        "val: {images_path}/val\n",
        "\n",
        "nc: {len(class_names)}\n",
        "names: {class_names}\n",
        "\"\"\"\n",
        "\n",
        "# Save the YAML file\n",
        "with open('data.yaml', 'w') as f:\n",
        "    f.write(data_yaml)\n",
        "\n",
        "# Display the YAML file content\n",
        "print(data_yaml)\n"
      ],
      "metadata": {
        "id": "-4TsXuwLMLIm"
      },
      "execution_count": null,
      "outputs": []
    },
    {
      "cell_type": "code",
      "source": [
        "def convert_json_to_yolo(json_file_path, label_output_path, image_width, image_height):\n",
        "    with open(json_file_path, 'r') as f:\n",
        "        data = json.load(f)\n",
        "\n",
        "    yolo_annotations = []\n",
        "\n",
        "    for obj in data['objects']:\n",
        "        label = obj['label']\n",
        "        if label not in class_name_to_id:\n",
        "            continue  # Skip classes not in our mapping\n",
        "\n",
        "        class_id = class_name_to_id[label]\n",
        "        polygon_points = obj['polygon']\n",
        "\n",
        "        # Create a polygon\n",
        "        poly = Polygon(polygon_points)\n",
        "        if not poly.is_valid:\n",
        "            poly = poly.buffer(0)\n",
        "\n",
        "        # Get bounding box from polygon\n",
        "        min_x, min_y, max_x, max_y = poly.bounds\n",
        "\n",
        "        # Normalize coordinates\n",
        "        x_center = ((min_x + max_x) / 2) / image_width\n",
        "        y_center = ((min_y + max_y) / 2) / image_height\n",
        "        width = (max_x - min_x) / image_width\n",
        "        height = (max_y - min_y) / image_height\n",
        "\n",
        "        # Ensure values are between 0 and 1\n",
        "        x_center = min(max(x_center, 0), 1)\n",
        "        y_center = min(max(y_center, 0), 1)\n",
        "        width = min(max(width, 0), 1)\n",
        "        height = min(max(height, 0), 1)\n",
        "\n",
        "        yolo_annotations.append(f\"{class_id} {x_center} {y_center} {width} {height}\")\n",
        "\n",
        "    # Save annotations to .txt file\n",
        "    with open(label_output_path, 'w') as f:\n",
        "        f.write('\\n'.join(yolo_annotations))\n",
        "\n"
      ],
      "metadata": {
        "id": "kJykaCF9D6yJ"
      },
      "execution_count": null,
      "outputs": []
    },
    {
      "cell_type": "code",
      "source": [
        "# Process each JSON file\n",
        "labels_dir = '/content/dataset/labels/train'\n",
        "for json_filename in os.listdir(labels_dir):\n",
        "    if json_filename.endswith('.json'):\n",
        "        json_file_path = os.path.join(labels_dir, json_filename)\n",
        "\n",
        "        # Read JSON file\n",
        "        with open(json_file_path, 'r') as f:\n",
        "            data = json.load(f)\n",
        "\n",
        "        # Get image dimensions\n",
        "        img_width = data['imgWidth']\n",
        "        img_height = data['imgHeight']\n",
        "\n",
        "        # Prepare paths\n",
        "        image_base_name = os.path.splitext(json_filename)[0]\n",
        "        label_output_path = os.path.join(labels_dir, image_base_name + '.txt')\n",
        "\n",
        "        # Convert JSON to YOLO format\n",
        "        convert_json_to_yolo(json_file_path, label_output_path, img_width, img_height)\n"
      ],
      "metadata": {
        "id": "NmZrFG7JTpE8"
      },
      "execution_count": null,
      "outputs": []
    },
    {
      "cell_type": "code",
      "source": [
        "# List the generated label files\n",
        "print(\"Generated label files:\")\n",
        "print(os.listdir(labels_dir))\n",
        "\n",
        "# Optionally, print contents of a label file\n",
        "with open(os.path.join(labels_dir, '/content/dataset/labels/train/frame12335_gtFine_polygons.json'), 'r') as f:\n",
        "    print(f.read())\n"
      ],
      "metadata": {
        "id": "Jqy7mzZJT7bA"
      },
      "execution_count": null,
      "outputs": []
    },
    {
      "cell_type": "code",
      "source": [
        "# Define class names (order must match class IDs)\n",
        "class_names = ['road', 'car', 'person', 'truck', 'bus', 'motorcycle']\n",
        "dataset_path = '/content/dataset'\n",
        "# Create the YAML content\n",
        "data_yaml = f\"\"\"\n",
        "path: {dataset_path}\n",
        "\n",
        "train: /content/dataset/images/train\n",
        "val: /content/dataset/images/val\n",
        "\n",
        "nc: {len(class_names)}\n",
        "names: {class_names}\n",
        "\"\"\"\n",
        "\n",
        "# Save the YAML file\n",
        "with open('data.yaml', 'w') as f:\n",
        "    f.write(data_yaml)\n",
        "\n",
        "print(data_yaml)\n"
      ],
      "metadata": {
        "id": "ntf1RP8_UGmr"
      },
      "execution_count": null,
      "outputs": []
    },
    {
      "cell_type": "code",
      "source": [
        "# Initialize the model\n",
        "model = YOLO('yolov8n.pt')\n",
        "\n",
        "# Train the model\n",
        "model.train(\n",
        "    data='data.yaml',\n",
        "    epochs=10,\n",
        "    imgsz=640,\n",
        "    batch=2,\n",
        "    name='yolov8_custom',\n",
        "    verbose=True\n",
        ")\n",
        "\n"
      ],
      "metadata": {
        "id": "RZg992nLD60x"
      },
      "execution_count": null,
      "outputs": []
    },
    {
      "cell_type": "code",
      "source": [
        "# Validate the model\n",
        "metrics = model.val()\n",
        "\n",
        "# Test the model on a validation image\n",
        "test_image_path = os.path.join(images_dir, 'val', val_images[0])  # Use the first validation image\n",
        "results = model.predict(source=test_image_path, save=True, conf=0.25)\n",
        "\n",
        "from IPython.display import Image\n",
        "display(Image(filename='runs/detect/predict/image0.jpg'))\n"
      ],
      "metadata": {
        "id": "pPujcYOEUPML"
      },
      "execution_count": null,
      "outputs": []
    }
  ]
}